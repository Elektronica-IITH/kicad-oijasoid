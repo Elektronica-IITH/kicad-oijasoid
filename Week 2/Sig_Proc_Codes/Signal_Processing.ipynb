{
  "nbformat": 4,
  "nbformat_minor": 0,
  "metadata": {
    "colab": {
      "provenance": []
    },
    "kernelspec": {
      "name": "python3",
      "display_name": "Python 3"
    },
    "language_info": {
      "name": "python"
    }
  },
  "cells": [
    {
      "cell_type": "markdown",
      "source": [
        "Image Processing:"
      ],
      "metadata": {
        "id": "ijoAY13JaC5W"
      }
    },
    {
      "cell_type": "code",
      "execution_count": null,
      "metadata": {
        "id": "xZwlXhbkY0kX"
      },
      "outputs": [],
      "source": [
        "import cv2\n",
        "import numpy as np\n",
        "import matplotlib.pyplot as plt\n",
        "\n",
        "def custom_convolution(image, kernel):\n",
        "    img_height, img_width, channels = image.shape\n",
        "    k_height, k_width = kernel.shape\n",
        "    pad_h, pad_w = k_height // 2, k_width // 2\n",
        "\n",
        "    padded_image = np.pad(image, ((pad_h, pad_h), (pad_w, pad_w), (0, 0)), mode='constant')\n",
        "\n",
        "    output = np.zeros_like(image)\n",
        "\n",
        "    for y in range(img_height):\n",
        "        for x in range(img_width):\n",
        "            for c in range(channels):\n",
        "                output[y, x, c] = np.sum(\n",
        "                    padded_image[y:y+k_height, x:x+k_width, c] * kernel\n",
        "                )\n",
        "\n",
        "    return np.clip(output, 0, 255).astype(np.uint8)\n",
        "\n",
        "def apply_motion_blur(image_path, kernel_size=15):\n",
        "    # Load the image\n",
        "    image = cv2.imread(image_path)\n",
        "    image = cv2.cvtColor(image, cv2.COLOR_BGR2RGB)\n",
        "\n",
        "    # Create a horizontal motion blur kernel\n",
        "    kernel = np.zeros((kernel_size, kernel_size))\n",
        "    kernel[int((kernel_size - 1)/2), :] = np.ones(kernel_size)\n",
        "    kernel /= kernel_size  # Normalize the kernel\n",
        "\n",
        "    # Apply custom convolution instead of OpenCV filter\n",
        "    blurred = custom_convolution(image, kernel)\n",
        "\n",
        "    # Display original and blurred images\n",
        "    fig, ax = plt.subplots(1, 2, figsize=(10, 5))\n",
        "    ax[0].imshow(image)\n",
        "    ax[0].set_title(\"Original Image\")\n",
        "    ax[0].axis(\"off\")\n",
        "\n",
        "    ax[1].imshow(blurred)\n",
        "    ax[1].set_title(\"Motion Blurred Image\")\n",
        "    ax[1].axis(\"off\")\n",
        "\n",
        "    plt.show()\n",
        "    return blurred\n",
        "\n",
        "# Example usage\n",
        "image_path = \"original_image.jpg\"  # Replace with your image file path\n",
        "apply_motion_blur(image_path)\n"
      ]
    },
    {
      "cell_type": "markdown",
      "source": [
        "Filter"
      ],
      "metadata": {
        "id": "iEccou15IpdP"
      }
    },
    {
      "cell_type": "code",
      "source": [
        "import numpy as np\n",
        "import matplotlib.pyplot as plt\n",
        "from scipy.signal import butter, filtfilt\n",
        "\n",
        "# Generate a sample signal\n",
        "fs = 1000  # Sampling frequency (Hz)\n",
        "t = np.linspace(0, 1, fs, endpoint=False)  # 1 second of data\n",
        "signal = np.sin(2 * np.pi * 10 * t) + 0.5 * np.sin(2 * np.pi * 50 * t)  # 10 Hz + 50 Hz components\n",
        "noise = np.random.normal(0, 0.3, signal.shape)  # Additive Gaussian noise\n",
        "noisy_signal = signal\n",
        "\n",
        "# Define Butterworth filter function\n",
        "def butter_filter(data, cutoff, fs, filter_type, order=5):\n",
        "    nyquist = 0.5 * fs\n",
        "    normal_cutoff = cutoff / nyquist\n",
        "    b, a = butter(order, normal_cutoff, btype=filter_type, analog=False)\n",
        "    return filtfilt(b, a, data)\n",
        "\n",
        "# Apply Low-Pass Filter (removes high-frequency noise)\n",
        "lpf_signal = butter_filter(noisy_signal, 20, fs, 'low')\n",
        "\n",
        "# Apply High-Pass Filter (removes low-frequency components)\n",
        "hpf_signal = butter_filter(noisy_signal, 20, fs, 'high')\n",
        "\n",
        "# Plot results\n",
        "plt.figure(figsize=(12, 6))\n",
        "plt.subplot(3, 1, 1)\n",
        "plt.plot(t, noisy_signal, label='Noisy Signal', color='gray')\n",
        "plt.title('Noisy Signal (10Hz + 50Hz + Noise)')\n",
        "plt.legend()\n",
        "\n",
        "plt.subplot(3, 1, 2)\n",
        "plt.plot(t, lpf_signal, label='Low-Pass Filtered (Removes >20Hz)', color='blue')\n",
        "plt.title('Low-Pass Filter Effect')\n",
        "plt.legend()\n",
        "\n",
        "plt.subplot(3, 1, 3)\n",
        "plt.plot(t, hpf_signal, label='High-Pass Filtered (Removes <20Hz)', color='red')\n",
        "plt.title('High-Pass Filter Effect')\n",
        "plt.legend()\n",
        "\n",
        "plt.tight_layout()\n",
        "plt.show()\n"
      ],
      "metadata": {
        "id": "DsFp58SFIrFk",
        "collapsed": true
      },
      "execution_count": null,
      "outputs": []
    },
    {
      "cell_type": "markdown",
      "source": [
        "Power Spectrum"
      ],
      "metadata": {
        "id": "ba19GIq6S1hI"
      }
    },
    {
      "cell_type": "code",
      "source": [
        "import numpy as np\n",
        "import matplotlib.pyplot as plt\n",
        "from scipy.fftpack import fft\n",
        "\n",
        "# Generate a sample signal\n",
        "fs = 1000  # Sampling frequency (Hz)\n",
        "t = np.linspace(0, 1, fs, endpoint=False)  # Time vector\n",
        "signal = np.sin(2 * np.pi * 50 * t) + 0.5 * np.sin(2 * np.pi * 120 * t)  # 50Hz + 120Hz\n",
        "\n",
        "# Compute Fourier Transform\n",
        "X = fft(signal)\n",
        "frequencies = np.fft.fftfreq(len(X), 1/fs)\n",
        "power_spectrum = np.abs(X)**2\n",
        "\n",
        "# Plot Power Spectrum\n",
        "plt.figure(figsize=(8, 4))\n",
        "plt.plot(frequencies[:fs//2], power_spectrum[:fs//2], color='blue')\n",
        "plt.title(\"Power Spectrum\")\n",
        "plt.xlabel(\"Frequency (Hz)\")\n",
        "plt.ylabel(\"Power\")\n",
        "plt.grid()\n",
        "plt.show()\n"
      ],
      "metadata": {
        "id": "u-G_LW9tS3oz"
      },
      "execution_count": null,
      "outputs": []
    },
    {
      "cell_type": "markdown",
      "source": [
        "Correlation:"
      ],
      "metadata": {
        "id": "5tGGYULupu5C"
      }
    },
    {
      "cell_type": "code",
      "source": [
        "import numpy as np\n",
        "import matplotlib.pyplot as plt\n",
        "from scipy.signal import correlate, convolve\n",
        "\n",
        "def generate_signals(N):\n",
        "    # Step signal: Jumps from 0 to 1 at t=0\n",
        "    step_signal = np.zeros(N)\n",
        "    step_signal[N//4:] = 1  # Jump at 1/4th of total length\n",
        "\n",
        "    # Sawtooth signal: Increases linearly then drops to 0\n",
        "    sawtooth_signal = np.linspace(1, 0, N//2)\n",
        "    sawtooth_signal = np.concatenate((np.zeros(N//2),sawtooth_signal))\n",
        "\n",
        "    return step_signal, sawtooth_signal\n",
        "\n",
        "def process_signals():\n",
        "    N = 100  # Signal length\n",
        "    step_signal, sawtooth_signal = generate_signals(N)\n",
        "\n",
        "    # Convolution\n",
        "    conv_result = convolve(step_signal, sawtooth_signal, mode='full')\n",
        "\n",
        "    # Auto-correlation\n",
        "    auto_corr_step = correlate(step_signal, step_signal, mode='full')\n",
        "    auto_corr_sawtooth = correlate(sawtooth_signal, sawtooth_signal, mode='full')\n",
        "\n",
        "    # Cross-correlation\n",
        "    cross_corr = correlate(step_signal, sawtooth_signal, mode='full')\n",
        "\n",
        "    # Plot results\n",
        "    plt.figure(figsize=(12, 8))\n",
        "\n",
        "    # Original signals\n",
        "    plt.subplot(3, 2, 1)\n",
        "    plt.plot(step_signal, label='Step Signal')\n",
        "    plt.title(\"Step Signal\")\n",
        "    plt.legend()\n",
        "\n",
        "    plt.subplot(3, 2, 2)\n",
        "    plt.plot(sawtooth_signal, label='Sawtooth Signal')\n",
        "    plt.title(\"Sawtooth Signal\")\n",
        "    plt.legend()\n",
        "\n",
        "    # Convolution\n",
        "    plt.subplot(3, 2, 3)\n",
        "    plt.plot(conv_result, label='Convolution')\n",
        "    plt.title(\"Convolution of Step & Sawtooth Signals\")\n",
        "    plt.legend()\n",
        "\n",
        "    # Auto-correlation\n",
        "    plt.subplot(3, 2, 4)\n",
        "    plt.plot(auto_corr_step, label='Auto-corr Step')\n",
        "    plt.plot(auto_corr_sawtooth, label='Auto-corr Sawtooth', linestyle='dashed')\n",
        "    plt.title(\"Auto-correlation\")\n",
        "    plt.legend()\n",
        "\n",
        "    # Cross-correlation\n",
        "    plt.subplot(3, 2, 5)\n",
        "    plt.plot(cross_corr, label='Cross-correlation')\n",
        "    plt.title(\"Cross-correlation between Step & Sawtooth\")\n",
        "    plt.legend()\n",
        "\n",
        "    plt.tight_layout()\n",
        "    plt.show()\n",
        "\n",
        "process_signals()"
      ],
      "metadata": {
        "id": "7KODQ2cgXKDp"
      },
      "execution_count": null,
      "outputs": []
    }
  ]
}